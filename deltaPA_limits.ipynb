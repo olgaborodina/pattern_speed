{
 "cells": [
  {
   "cell_type": "code",
   "execution_count": 17,
   "id": "ede8dec7",
   "metadata": {},
   "outputs": [],
   "source": [
    "import pybar.pybar_tom as pybar\n",
    "import numpy as np\n",
    "import matplotlib.pyplot as plt\n",
    "import matplotlib.colors as mc\n",
    "from matplotlib import cm\n",
    "import pandas as pd\n",
    "from tqdm import tqdm\n",
    "import functions as f\n",
    "from pathlib import Path\n",
    "import time"
   ]
  },
  {
   "cell_type": "code",
   "execution_count": 4,
   "id": "f6204414",
   "metadata": {},
   "outputs": [],
   "source": [
    "psi = np.deg2rad(50)\n",
    "to_Myr = 9.78462\n",
    "bar_length = 2.6\n",
    "err_vr = 0.1\n",
    "err_rho = 0.05"
   ]
  },
  {
   "cell_type": "code",
   "execution_count": 5,
   "id": "691793e3",
   "metadata": {},
   "outputs": [],
   "source": [
    "t = 20\n",
    "case = 'perfectdisk'\n",
    "FIG_DIR = Path('./../figures/')"
   ]
  },
  {
   "cell_type": "code",
   "execution_count": 63,
   "id": "deca5acb",
   "metadata": {},
   "outputs": [],
   "source": [
    "result = []\n",
    "for i in np.deg2rad(np.linspace(5, 88, 30)):\n",
    "    for deltaPA in np.geomspace(1e-1, 5, 30):\n",
    "        X, Y, VX, VY, RHO = np.load(f'./../simulation/simulation/output_npy/strongbar/data_{t}.npy')\n",
    "        VX  = np.zeros_like(VX)\n",
    "        VY  = np.zeros_like(VX)\n",
    "        RHO = np.ones_like(RHO) * np.exp(- np.sqrt(10) / 3 * np.sqrt (X ** 2 + Y ** 2))\n",
    "        \n",
    "        X, Y, VX, VY = f.rotate_bar(psi, X, Y, VX, VY)\n",
    "        VX, VY = f.add_solid_body_rotation(X, Y, VX, VY, 0.4)\n",
    "        X, Y, VR = f.incline_galaxy(i, X, Y, VX, VY)\n",
    "        \n",
    "        step_final   = 0.1\n",
    "        step_initial = 0.07\n",
    "\n",
    "        RHO_array = RHO.copy()\n",
    "        VR_array  = VR.copy()\n",
    "        x_center_array, y_center_array = X.copy(), Y.copy()\n",
    "        \n",
    "        VR_err = err_vr * np.ones_like(VR_array)\n",
    "        RHO_err = err_rho * RHO_array\n",
    "\n",
    "        VR_array, RHO_array = f.add_uncertanties(VR_array, RHO_array, err_vr, err_rho * RHO_array)\n",
    "\n",
    "        pa_uncertainty = deltaPA#np.random.uniform(-2, 2)\n",
    "        x_center_array, y_center_array, _, _ = f.rotate_bar(np.deg2rad(pa_uncertainty), x_center_array, y_center_array, 0, 0)\n",
    "        bar = pybar.mybar(Flux=RHO_array, Flux_err=RHO_err,\n",
    "                  Velocity=VR_array, Velocity_err=VR_err,\n",
    "                  Yin=y_center_array, Xin=x_center_array,\n",
    "                  slit_width=step_final,\n",
    "                  inclin=np.rad2deg(i), PAnodes=-90, beta=np.rad2deg(psi), if_symmetrize=False)\n",
    "\n",
    "        bar.tremaine_weinberg()\n",
    "        omega_bar, omega_bar_err, c, c_err, x_tw, v_tw, x_tw_err, v_tw_err = f.fit(bar)\n",
    "        result.append([np.rad2deg(i), deltaPA, omega_bar, c])"
   ]
  },
  {
   "cell_type": "code",
   "execution_count": 64,
   "id": "e3907265",
   "metadata": {},
   "outputs": [],
   "source": [
    "result = np.array(result)"
   ]
  },
  {
   "cell_type": "code",
   "execution_count": 8,
   "id": "2785e450",
   "metadata": {},
   "outputs": [],
   "source": [
    "# set the colormap and centre the colorbar\n",
    "class MidpointNormalize(mc.Normalize):\n",
    "    \"\"\"Normalise the colorbar.\"\"\"\n",
    "    def __init__(self, vmin=None, vmax=None, midpoint=None, clip=False):\n",
    "        self.midpoint = midpoint\n",
    "        mc.Normalize.__init__(self, vmin, vmax, clip)\n",
    "\n",
    "    def __call__(self, value, clip=None):\n",
    "        x, y = [self.vmin, self.midpoint, self.vmax], [0, 0.5, 1]\n",
    "        return np.ma.masked_array(np.interp(value, x, y), np.isnan(value))"
   ]
  },
  {
   "cell_type": "code",
   "execution_count": 9,
   "id": "dbe6534a",
   "metadata": {},
   "outputs": [],
   "source": [
    "import os\n",
    "os.environ[\"PATH\"] += os.pathsep + '/usr/local/texlive/2021/bin/universal-darwin'\n",
    "#print(os.getenv(\"PATH\"))\n",
    "\n",
    "plt.rcParams[\"mathtext.fontset\"] = \"cm\"\n",
    "plt.rcParams['mathtext.fontset'] = 'stix'\n",
    "plt.rcParams['font.family'] = 'STIXGeneral'\n",
    "\n",
    "plt.rc('text', usetex=True)"
   ]
  },
  {
   "cell_type": "code",
   "execution_count": 82,
   "id": "2e0a44ca",
   "metadata": {},
   "outputs": [],
   "source": [
    "a = result[result[:,0] == 65.10344827586206,:]"
   ]
  },
  {
   "cell_type": "code",
   "execution_count": 105,
   "id": "ae8cd92a",
   "metadata": {},
   "outputs": [],
   "source": [
    "def firstNonNan(listfloats):\n",
    "    for item in listfloats:\n",
    "        if np.isnan(item).any() == False:\n",
    "            return item[1], item[2]\n",
    "    return np.nan, np.nan"
   ]
  },
  {
   "cell_type": "code",
   "execution_count": 106,
   "id": "4e3a9f38",
   "metadata": {},
   "outputs": [],
   "source": [
    "PA_inc = []\n",
    "for inc in np.unique(result[:,0]):\n",
    "    subset = result[result[:,0] == inc]\n",
    "    deltaPA_i, omega_i = firstNonNan(subset)\n",
    "    PA_inc.append([inc, deltaPA_i, omega_i])\n",
    "PA_inc = np.array(PA_inc)"
   ]
  },
  {
   "cell_type": "code",
   "execution_count": 117,
   "id": "1a873031",
   "metadata": {},
   "outputs": [
    {
     "data": {
      "image/png": "[encoded data removed]",
      "text/plain": [
       "<Figure size 432x288 with 2 Axes>"
      ]
     },
     "metadata": {
      "needs_background": "light"
     },
     "output_type": "display_data"
    }
   ],
   "source": [
    "levels = np.linspace(np.nanmin(result[:,2] - 0.4), np.nanmax(result[:,2] - 0.4), 101)\n",
    "norm = MidpointNormalize(np.nanmin(result[:,2] - 0.4), np.nanmax(result[:,2] - 0.4), 0.0)\n",
    "\n",
    "fig, ax = plt.subplots(figsize=(6, 4))\n",
    "\n",
    "sc = ax.scatter(PA_inc[:,0], PA_inc[:,1], c=(PA_inc[:,2] - 0.4) /0.4, \n",
    "                cmap='plasma', marker='o', s=100)\n",
    "ax.grid(ls='dashed')\n",
    "ax.tick_params(labelsize=20, direction='in')\n",
    "ax.set_xlabel(r'$i\\, \\rm  [^\\circ$]', fontsize=20)\n",
    "ax.set_ylabel(r'$\\delta_{PA} \\, \\rm[^\\circ$]', fontsize=20)\n",
    "# ax.set_ylim(0, 90)\n",
    "# ax.set_xlim(0, 90)\n",
    "ax.set_yscale('log')\n",
    "# ax.set_aspect('1')\n",
    "# ax.set_title(r'$V_{radial}$', fontsize=20)\n",
    "cbar = plt.colorbar(sc, format='%g')\n",
    "cbar.set_label(label=r'$\\rm  (\\Omega_{GT} - \\Omega_p)/\\Omega_{GT}$', size=25)\n",
    "plt.savefig(FIG_DIR / f'omega_fit_i_deltaPA_{case}_scatter.png', bbox_inches='tight', dpi=300)"
   ]
  },
  {
   "cell_type": "code",
   "execution_count": 75,
   "id": "bbd7fa01",
   "metadata": {},
   "outputs": [
    {
     "data": {
      "image/png": "[encoded data removed]",
      "text/plain": [
       "<Figure size 216x432 with 2 Axes>"
      ]
     },
     "metadata": {
      "needs_background": "light"
     },
     "output_type": "display_data"
    }
   ],
   "source": [
    "levels = np.linspace(np.nanmin(result[:,2] - 0.4), np.nanmax(result[:,2] - 0.4), 101)\n",
    "norm = MidpointNormalize(np.nanmin(result[:,2] - 0.4), np.nanmax(result[:,2] - 0.4), 0.0)\n",
    "\n",
    "fig, ax = plt.subplots(figsize=(3, 6))\n",
    "\n",
    "sc = ax.scatter(result[:,0], result[:,1], c=(result[:,2] - 0.4) /0.4, \n",
    "                cmap='plasma', marker='s', s=180)\n",
    "ax.grid(ls='dashed')\n",
    "ax.tick_params(labelsize=20, direction='in')\n",
    "ax.set_xlabel(r'$i\\, \\rm  [^\\circ$]', fontsize=20)\n",
    "ax.set_ylabel(r'$\\delta_{PA} \\, \\rm[^\\circ$]', fontsize=20)\n",
    "# ax.set_ylim(0, 90)\n",
    "# ax.set_xlim(0, 90)\n",
    "ax.set_yscale('log')\n",
    "# ax.set_aspect('1')\n",
    "# ax.set_title(r'$V_{radial}$', fontsize=20)\n",
    "cbar = plt.colorbar(sc, format='%g')\n",
    "cbar.set_label(label=r'$\\rm  \\Omega_{GT} - \\Omega_p  \\ [km/s/kpc]$', size=25)\n",
    "plt.savefig(FIG_DIR / f'omega_fit_i_deltaPA_{case}.png', bbox_inches='tight', dpi=300)"
   ]
  },
  {
   "cell_type": "code",
   "execution_count": null,
   "id": "feca5781",
   "metadata": {},
   "outputs": [],
   "source": []
  }
 ],
 "metadata": {
  "kernelspec": {
   "display_name": "Python 3",
   "language": "python",
   "name": "python3"
  },
  "language_info": {
   "codemirror_mode": {
    "name": "ipython",
    "version": 3
   },
   "file_extension": ".py",
   "mimetype": "text/x-python",
   "name": "python",
   "nbconvert_exporter": "python",
   "pygments_lexer": "ipython3",
   "version": "3.9.10"
  }
 },
 "nbformat": 4,
 "nbformat_minor": 5
}
