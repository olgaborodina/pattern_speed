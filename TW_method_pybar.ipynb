{
 "cells": [
  {
   "cell_type": "code",
   "execution_count": 25,
   "id": "0a89cccf",
   "metadata": {},
   "outputs": [],
   "source": [
    "import pybar.pybar_tom as pybar\n",
    "import numpy as np\n",
    "import matplotlib.pyplot as plt\n",
    "import matplotlib.colors as mc\n",
    "from matplotlib import cm\n",
    "import pandas as pd\n",
    "from tqdm import tqdm\n",
    "import functions as f\n",
    "from pathlib import Path\n",
    "import time"
   ]
  },
  {
   "cell_type": "code",
   "execution_count": 26,
   "id": "8e0c8a1d",
   "metadata": {},
   "outputs": [],
   "source": [
    "beta = np.deg2rad(50)\n",
    "i    = np.deg2rad(80)\n",
    "to_Myr = 9.78462\n",
    "bar_length = 2.6\n",
    "err_vr = 0.1\n",
    "err_rho = 0.05"
   ]
  },
  {
   "cell_type": "code",
   "execution_count": 27,
   "id": "263d5795",
   "metadata": {},
   "outputs": [],
   "source": [
    "t = 20\n",
    "case = 'strongbar'\n",
    "X, Y, VX, VY, RHO = np.load(f'./../simulation/simulation/output_npy/{case}/data_{t}.npy')\n",
    "FIG_DIR = Path('./../figures/')"
   ]
  },
  {
   "cell_type": "code",
   "execution_count": 28,
   "id": "26349a9c",
   "metadata": {},
   "outputs": [],
   "source": [
    "# check solid body rotation with uniform disk\n",
    "VX  = np.zeros_like(VX)\n",
    "VY  = np.zeros_like(VX)\n",
    "RHO = np.ones_like(RHO) * np.exp(- np.sqrt(10) / 3 * np.sqrt (X ** 2 + Y ** 2))\n",
    "case = 'perfectdisk'"
   ]
  },
  {
   "cell_type": "code",
   "execution_count": 29,
   "id": "252c91dd",
   "metadata": {},
   "outputs": [],
   "source": [
    "X, Y, VX, VY = f.rotate_bar(beta, X, Y, VX, VY)\n",
    "VX, VY = f.add_solid_body_rotation(X, Y, VX, VY, 0.4)\n",
    "X, Y, VR = f.incline_galaxy(i, X, Y, VX, VY)"
   ]
  },
  {
   "cell_type": "markdown",
   "id": "449760aa",
   "metadata": {},
   "source": [
    "### pixelation"
   ]
  },
  {
   "cell_type": "code",
   "execution_count": 30,
   "id": "88583fd8",
   "metadata": {},
   "outputs": [],
   "source": [
    "step_final   = 0.1\n",
    "step_initial = 0.07\n",
    "\n",
    "RHO_array = RHO.copy()\n",
    "VR_array  = VR.copy()\n",
    "x_center_array, y_center_array = X.copy(), Y.copy()\n",
    "\n",
    "# RHO_array, [x_center_array, y_center_array] = f.mean_in_pixel(X, Y, step_initial, RHO, if_xy=True)\n",
    "# VR_array           = f.mean_in_pixel(X, Y, step_initial, VR * RHO) / RHO_array"
   ]
  },
  {
   "cell_type": "markdown",
   "id": "6dfde8f4",
   "metadata": {},
   "source": [
    "### uncertainties"
   ]
  },
  {
   "cell_type": "code",
   "execution_count": 31,
   "id": "564b05c2",
   "metadata": {},
   "outputs": [],
   "source": [
    "VR_err = err_vr * np.ones_like(VR_array)\n",
    "RHO_err = err_rho * RHO_array\n",
    "\n",
    "VR_array, RHO_array = f.add_uncertanties(VR_array, RHO_array, err_vr, err_rho * RHO_array)\n",
    "\n",
    "pa_uncertainty = 0#np.random.uniform(-2, 2)\n",
    "x_center_array, y_center_array, _, _ = f.rotate_bar(np.deg2rad(pa_uncertainty), x_center_array, y_center_array, 0, 0)\n",
    "# x_center_array += np.random.normal(loc=0, scale=0.1)\n",
    "# x_center_array += np.random.normal(loc=0, scale=0.1)"
   ]
  },
  {
   "cell_type": "markdown",
   "id": "e6ef12c4",
   "metadata": {},
   "source": [
    "### integrating"
   ]
  },
  {
   "cell_type": "code",
   "execution_count": 32,
   "id": "704e3261",
   "metadata": {},
   "outputs": [],
   "source": [
    "bar = pybar.mybar(Flux=RHO_array, Flux_err=RHO_err,\n",
    "                  Velocity=VR_array, Velocity_err=VR_err,\n",
    "                  Yin=y_center_array, Xin=x_center_array,\n",
    "                  slit_width=step_final,\n",
    "                  inclin=np.rad2deg(i), PAnodes=-90, beta=np.rad2deg(beta), if_symmetrize=False)\n",
    "\n",
    "bar.tremaine_weinberg()"
   ]
  },
  {
   "cell_type": "markdown",
   "id": "52af59cf",
   "metadata": {},
   "source": [
    "### fitting"
   ]
  },
  {
   "cell_type": "code",
   "execution_count": 33,
   "id": "4cf394f3",
   "metadata": {},
   "outputs": [],
   "source": [
    "omega_bar, omega_bar_err, c, c_err, x_tw, v_tw, x_tw_err, v_tw_err = f.fit(bar) ### 1-line code"
   ]
  },
  {
   "cell_type": "code",
   "execution_count": 34,
   "id": "3548d466",
   "metadata": {},
   "outputs": [],
   "source": [
    "import os\n",
    "os.environ[\"PATH\"] += os.pathsep + '/usr/local/texlive/2021/bin/universal-darwin'\n",
    "#print(os.getenv(\"PATH\"))\n",
    "\n",
    "plt.rcParams[\"mathtext.fontset\"] = \"cm\"\n",
    "plt.rcParams['mathtext.fontset'] = 'stix'\n",
    "plt.rcParams['font.family'] = 'STIXGeneral'\n",
    "\n",
    "plt.rc('text', usetex=True)"
   ]
  },
  {
   "cell_type": "code",
   "execution_count": 35,
   "id": "8455c984",
   "metadata": {},
   "outputs": [],
   "source": [
    "plasma = cm.get_cmap('plasma', len(x_tw))\n",
    "colors = plasma.colors\n",
    "\n",
    "x_fit = np.linspace(np.nanmin(x_tw), np.nanmax(x_tw), 3)\n",
    "y_GT  = (x_fit * 40) * np.sin(i) + c * 100\n",
    "y_fit = (x_fit * omega_bar * 100) + c * 100"
   ]
  },
  {
   "cell_type": "code",
   "execution_count": 36,
   "id": "efc5850b",
   "metadata": {},
   "outputs": [
    {
     "data": {
      "image/png": "[encoded data removed]",
      "text/plain": [
       "<Figure size 1080x504 with 3 Axes>"
      ]
     },
     "metadata": {
      "needs_background": "light"
     },
     "output_type": "display_data"
    }
   ],
   "source": [
    "fig, ax = plt.subplots(1, 2, figsize=(15, 7))\n",
    "\n",
    "levels = np.linspace(np.nanmin(VR) * 100 - 10, np.nanmax(VR) * 100 + 10, 101)\n",
    "cbarticks = np.linspace(np.nanmin(VR).round(2) * 100 , np.nanmax(VR).round(2) * 100 , 5)\n",
    "norm = mc.BoundaryNorm(levels, 256)\n",
    "\n",
    "ax1 = ax[0]\n",
    "ax2 = ax[1]\n",
    "\n",
    "sc = ax1.scatter(bar.X_lon, bar.Y_lon, c=bar.Vel * 100, \n",
    "                 cmap='Greys', norm=norm, marker='s', s=3)\n",
    "# sc = ax1.scatter(bar.X_lon, bar.Y_lon, c=bar.Flux, \n",
    "#                  cmap='gray', norm=norm, s=1.3, alpha=0.4)\n",
    "for index, y in enumerate(bar.y_slits):\n",
    "    if index % 4 == 0:\n",
    "        ax1.plot([-8, 8], [y, y], c=colors[index])\n",
    "ax1.set_xlabel(r'$x$ [kpc]', fontsize=15)\n",
    "ax1.set_ylabel(r'$y$ [kpc]', fontsize=15)\n",
    "ax1.tick_params(labelsize=12, direction='in')\n",
    "# ax1.annotate(r'$t=%.1f\\, \\rm Myr$' % (t * to_Myr), xy=(0.03, 0.94),\n",
    "#              xycoords='axes fraction', fontsize=16, color='k')\n",
    "ax1.annotate(r'$i=%.1f ^{\\circ}$' % (np.rad2deg(i)), xy=(0.03, 0.89),\n",
    "             xycoords='axes fraction', fontsize=16, color='k')\n",
    "ax1.annotate(r'$\\psi_{bar}=%.1f ^{\\circ}$' % (np.rad2deg(beta)), xy=(0.03, 0.84),\n",
    "             xycoords='axes fraction', fontsize=16, color='k')\n",
    "\n",
    "ax1.set_ylim(-7, 7)\n",
    "cbar = plt.colorbar(sc, ax=ax1, orientation=\"horizontal\", fraction=0.07, ticks=cbarticks)\n",
    "cbar.set_label(label=r'$V_{LOS}$ [km/s]', size=15)\n",
    "\n",
    "ax2.plot(x_fit, y_GT,\n",
    "        c='black', lw=3, label=r'GT: $\\Omega_p = 40$ km/s/kpc')\n",
    "ax2.plot(x_fit, y_fit, \n",
    "        c='gray', lw=3, label=fr'fit: $\\Omega_p = {(omega_bar * 100 / np.sin(i)).round(1)} \\pm {(omega_bar_err * 100 / np.sin(i)).round(1)} $ km/s/kpc')\n",
    "\n",
    "for x, y, e1, e2, color in zip(x_tw, v_tw * 100, x_tw_err, v_tw_err * 100, colors):\n",
    "    ax2.errorbar(x, y, xerr=e1, yerr=e2, lw=1, capsize=3, color=color, marker='o')\n",
    "# ax2.annotate(text='errors: 0.01 km/s, density 10%', xy=(4,10), xytext=(0.5,0.5))\n",
    "\n",
    "# ax2.annotate(f'errors: \\n {err_vr * 100} km/s, \\n density {err_rho * 100} \\%',\n",
    "#             xy=(0, 0.5),\n",
    "#             xycoords='axes fraction',\n",
    "#             xytext=(0.7, 0.1), fontsize=15)\n",
    "\n",
    "\n",
    "\n",
    "ax2.tick_params(labelsize=12,direction='in')\n",
    "ax2.set_xlabel(r' $\\langle x \\rangle$ [kpc]', fontsize=15)\n",
    "ax2.set_ylabel(r' $\\langle v \\rangle$ [km/s]', fontsize=15)\n",
    "ax2.legend(fontsize=15, loc='upper left')\n",
    "\n",
    "ax2.grid(ls='dashed')\n",
    "plt.savefig(FIG_DIR / f'TW_method_pybar_{t}_{err_vr * 100}_{err_rho * 100}_{case}_errors.png', bbox_inches='tight', dpi=300)"
   ]
  },
  {
   "cell_type": "code",
   "execution_count": null,
   "id": "ceeac084",
   "metadata": {},
   "outputs": [],
   "source": []
  }
 ],
 "metadata": {
  "kernelspec": {
   "display_name": "Python 3",
   "language": "python",
   "name": "python3"
  },
  "language_info": {
   "codemirror_mode": {
    "name": "ipython",
    "version": 3
   },
   "file_extension": ".py",
   "mimetype": "text/x-python",
   "name": "python",
   "nbconvert_exporter": "python",
   "pygments_lexer": "ipython3",
   "version": "3.9.6"
  }
 },
 "nbformat": 4,
 "nbformat_minor": 5
}
